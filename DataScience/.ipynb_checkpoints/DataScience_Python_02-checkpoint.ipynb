{
 "cells": [
  {
   "cell_type": "code",
   "execution_count": 6,
   "id": "055d8ada",
   "metadata": {},
   "outputs": [
    {
     "data": {
      "text/html": [
       "<div>\n",
       "<style scoped>\n",
       "    .dataframe tbody tr th:only-of-type {\n",
       "        vertical-align: middle;\n",
       "    }\n",
       "\n",
       "    .dataframe tbody tr th {\n",
       "        vertical-align: top;\n",
       "    }\n",
       "\n",
       "    .dataframe thead th {\n",
       "        text-align: right;\n",
       "    }\n",
       "</style>\n",
       "<table border=\"1\" class=\"dataframe\">\n",
       "  <thead>\n",
       "    <tr style=\"text-align: right;\">\n",
       "      <th></th>\n",
       "      <th>country</th>\n",
       "      <th>year</th>\n",
       "      <th>population</th>\n",
       "    </tr>\n",
       "  </thead>\n",
       "  <tbody>\n",
       "    <tr>\n",
       "      <th>240</th>\n",
       "      <td>Canada</td>\n",
       "      <td>1952</td>\n",
       "      <td>14785584</td>\n",
       "    </tr>\n",
       "    <tr>\n",
       "      <th>241</th>\n",
       "      <td>Canada</td>\n",
       "      <td>1957</td>\n",
       "      <td>17010154</td>\n",
       "    </tr>\n",
       "    <tr>\n",
       "      <th>242</th>\n",
       "      <td>Canada</td>\n",
       "      <td>1962</td>\n",
       "      <td>18985849</td>\n",
       "    </tr>\n",
       "    <tr>\n",
       "      <th>243</th>\n",
       "      <td>Canada</td>\n",
       "      <td>1967</td>\n",
       "      <td>20819767</td>\n",
       "    </tr>\n",
       "    <tr>\n",
       "      <th>244</th>\n",
       "      <td>Canada</td>\n",
       "      <td>1972</td>\n",
       "      <td>22284500</td>\n",
       "    </tr>\n",
       "    <tr>\n",
       "      <th>245</th>\n",
       "      <td>Canada</td>\n",
       "      <td>1977</td>\n",
       "      <td>23796400</td>\n",
       "    </tr>\n",
       "    <tr>\n",
       "      <th>246</th>\n",
       "      <td>Canada</td>\n",
       "      <td>1982</td>\n",
       "      <td>25201900</td>\n",
       "    </tr>\n",
       "    <tr>\n",
       "      <th>247</th>\n",
       "      <td>Canada</td>\n",
       "      <td>1987</td>\n",
       "      <td>26549700</td>\n",
       "    </tr>\n",
       "    <tr>\n",
       "      <th>248</th>\n",
       "      <td>Canada</td>\n",
       "      <td>1992</td>\n",
       "      <td>28523502</td>\n",
       "    </tr>\n",
       "    <tr>\n",
       "      <th>249</th>\n",
       "      <td>Canada</td>\n",
       "      <td>1997</td>\n",
       "      <td>30305843</td>\n",
       "    </tr>\n",
       "    <tr>\n",
       "      <th>250</th>\n",
       "      <td>Canada</td>\n",
       "      <td>2002</td>\n",
       "      <td>31902268</td>\n",
       "    </tr>\n",
       "    <tr>\n",
       "      <th>251</th>\n",
       "      <td>Canada</td>\n",
       "      <td>2007</td>\n",
       "      <td>33390141</td>\n",
       "    </tr>\n",
       "  </tbody>\n",
       "</table>\n",
       "</div>"
      ],
      "text/plain": [
       "    country  year  population\n",
       "240  Canada  1952    14785584\n",
       "241  Canada  1957    17010154\n",
       "242  Canada  1962    18985849\n",
       "243  Canada  1967    20819767\n",
       "244  Canada  1972    22284500\n",
       "245  Canada  1977    23796400\n",
       "246  Canada  1982    25201900\n",
       "247  Canada  1987    26549700\n",
       "248  Canada  1992    28523502\n",
       "249  Canada  1997    30305843\n",
       "250  Canada  2002    31902268\n",
       "251  Canada  2007    33390141"
      ]
     },
     "metadata": {},
     "output_type": "display_data"
    }
   ],
   "source": [
    "import pandas as pd\n",
    "\n",
    "countries = pd.read_csv('Dados/countries.csv')\n",
    "usa = countries[countries.country == 'United States'].copy()\n",
    "brasil = countries[countries.country == 'Brazil'].copy()\n",
    "canada = countries[countries.country == 'Canada'].copy()\n",
    "display(canada)"
   ]
  },
  {
   "cell_type": "code",
   "execution_count": 7,
   "id": "04253437",
   "metadata": {},
   "outputs": [
    {
     "name": "stderr",
     "output_type": "stream",
     "text": [
      "C:\\Users\\samue\\AppData\\Local\\Temp/ipykernel_6496/3985043990.py:1: FutureWarning: Dropping of nuisance columns in DataFrame reductions (with 'numeric_only=None') is deprecated; in a future version this will raise TypeError.  Select only valid columns before calling the reduction.\n",
      "  usa.mean()\n"
     ]
    },
    {
     "data": {
      "text/plain": [
       "year               1979.5\n",
       "population    228211232.5\n",
       "dtype: float64"
      ]
     },
     "execution_count": 7,
     "metadata": {},
     "output_type": "execute_result"
    }
   ],
   "source": [
    "usa.mean()"
   ]
  },
  {
   "cell_type": "code",
   "execution_count": 8,
   "id": "dce105e6",
   "metadata": {},
   "outputs": [
    {
     "data": {
      "text/plain": [
       "228211232.5"
      ]
     },
     "execution_count": 8,
     "metadata": {},
     "output_type": "execute_result"
    }
   ],
   "source": [
    "usa.population.mean()"
   ]
  },
  {
   "cell_type": "code",
   "execution_count": 19,
   "id": "055a9952",
   "metadata": {},
   "outputs": [
    {
     "data": {
      "text/plain": [
       "Text(0.5, 1.0, 'Média populacional')"
      ]
     },
     "execution_count": 19,
     "metadata": {},
     "output_type": "execute_result"
    },
    {
     "data": {
      "image/png": "[encoded data removed]",
      "text/plain": [
       "<Figure size 720x360 with 1 Axes>"
      ]
     },
     "metadata": {
      "needs_background": "light"
     },
     "output_type": "display_data"
    }
   ],
   "source": [
    "import matplotlib.pyplot as plt\n",
    "\n",
    "plt.figure(figsize=(10,5))\n",
    "medias = [usa.population.mean(), brasil.population.mean(), canada.population.mean()]\n",
    "plt.bar(['USA', 'BR', 'CAN'], medias)\n",
    "plt.title('Média populacional', fontsize=20)"
   ]
  },
  {
   "cell_type": "code",
   "execution_count": 21,
   "id": "25e2048f",
   "metadata": {},
   "outputs": [],
   "source": [
    "usa['rel_population'] = usa.population/usa.iloc[0,2] * 100\n",
    "brasil['rel_population'] = brasil.population/brasil.iloc[0,2] * 100\n",
    "canada['rel_population'] = canada.population/canada.iloc[0,2] * 100"
   ]
  },
  {
   "cell_type": "code",
   "execution_count": 26,
   "id": "d824ea26",
   "metadata": {},
   "outputs": [
    {
     "data": {
      "text/plain": [
       "Text(0, 0.5, 'População média')"
      ]
     },
     "execution_count": 26,
     "metadata": {},
     "output_type": "execute_result"
    },
    {
     "data": {
      "image/png": "[encoded data removed]",
      "text/plain": [
       "<Figure size 720x360 with 1 Axes>"
      ]
     },
     "metadata": {
      "needs_background": "light"
     },
     "output_type": "display_data"
    }
   ],
   "source": [
    "barras = ['USA', 'BR', 'CAN']\n",
    "rel = [usa.rel_population.mean(), brasil.rel_population.mean(), canada.rel_population.mean()]\n",
    "plt.figure(figsize=[10,5])\n",
    "plt.bar(barras,rel)\n",
    "plt.title('Crescimento médio populacional', fontsize=20)\n",
    "plt.ylabel('População média')"
   ]
  },
  {
   "cell_type": "code",
   "execution_count": 27,
   "id": "d28ebf43",
   "metadata": {},
   "outputs": [],
   "source": [
    "countries_2007 = countries[countries.year == 2007]"
   ]
  },
  {
   "cell_type": "code",
   "execution_count": 34,
   "id": "373dde43",
   "metadata": {},
   "outputs": [
    {
     "data": {
      "text/html": [
       "<div>\n",
       "<style scoped>\n",
       "    .dataframe tbody tr th:only-of-type {\n",
       "        vertical-align: middle;\n",
       "    }\n",
       "\n",
       "    .dataframe tbody tr th {\n",
       "        vertical-align: top;\n",
       "    }\n",
       "\n",
       "    .dataframe thead th {\n",
       "        text-align: right;\n",
       "    }\n",
       "</style>\n",
       "<table border=\"1\" class=\"dataframe\">\n",
       "  <thead>\n",
       "    <tr style=\"text-align: right;\">\n",
       "      <th></th>\n",
       "      <th>country</th>\n",
       "      <th>year</th>\n",
       "      <th>population</th>\n",
       "    </tr>\n",
       "  </thead>\n",
       "  <tbody>\n",
       "    <tr>\n",
       "      <th>299</th>\n",
       "      <td>China</td>\n",
       "      <td>2007</td>\n",
       "      <td>1318683096</td>\n",
       "    </tr>\n",
       "    <tr>\n",
       "      <th>707</th>\n",
       "      <td>India</td>\n",
       "      <td>2007</td>\n",
       "      <td>1110396331</td>\n",
       "    </tr>\n",
       "    <tr>\n",
       "      <th>1619</th>\n",
       "      <td>United States</td>\n",
       "      <td>2007</td>\n",
       "      <td>301139947</td>\n",
       "    </tr>\n",
       "    <tr>\n",
       "      <th>719</th>\n",
       "      <td>Indonesia</td>\n",
       "      <td>2007</td>\n",
       "      <td>223547000</td>\n",
       "    </tr>\n",
       "    <tr>\n",
       "      <th>179</th>\n",
       "      <td>Brazil</td>\n",
       "      <td>2007</td>\n",
       "      <td>190010647</td>\n",
       "    </tr>\n",
       "    <tr>\n",
       "      <th>1175</th>\n",
       "      <td>Pakistan</td>\n",
       "      <td>2007</td>\n",
       "      <td>169270617</td>\n",
       "    </tr>\n",
       "  </tbody>\n",
       "</table>\n",
       "</div>"
      ],
      "text/plain": [
       "            country  year  population\n",
       "299           China  2007  1318683096\n",
       "707           India  2007  1110396331\n",
       "1619  United States  2007   301139947\n",
       "719       Indonesia  2007   223547000\n",
       "179          Brazil  2007   190010647\n",
       "1175       Pakistan  2007   169270617"
      ]
     },
     "execution_count": 34,
     "metadata": {},
     "output_type": "execute_result"
    }
   ],
   "source": [
    "countries_2007.sort_values('population', ascending=False, inplace=True)\n",
    "countries_2007.head(6)"
   ]
  },
  {
   "cell_type": "code",
   "execution_count": 42,
   "id": "08877b93",
   "metadata": {},
   "outputs": [
    {
     "data": {
      "text/plain": [
       "Text(0.5, 1.0, 'Os 6 países mais populosos')"
      ]
     },
     "execution_count": 42,
     "metadata": {},
     "output_type": "execute_result"
    },
    {
     "data": {
      "image/png": "[encoded data removed]",
      "text/plain": [
       "<Figure size 432x288 with 1 Axes>"
      ]
     },
     "metadata": {
      "needs_background": "light"
     },
     "output_type": "display_data"
    }
   ],
   "source": [
    "n = 6\n",
    "country = countries_2007[:n].country\n",
    "population = countries_2007[:n].population\n",
    "plt.bar(country,population)\n",
    "plt.title(f'Os {n} países mais populosos')"
   ]
  },
  {
   "cell_type": "code",
   "execution_count": null,
   "id": "b1b875c8",
   "metadata": {},
   "outputs": [],
   "source": []
  }
 ],
 "metadata": {
  "kernelspec": {
   "display_name": "Python 3 (ipykernel)",
   "language": "python",
   "name": "python3"
  },
  "language_info": {
   "codemirror_mode": {
    "name": "ipython",
    "version": 3
   },
   "file_extension": ".py",
   "mimetype": "text/x-python",
   "name": "python",
   "nbconvert_exporter": "python",
   "pygments_lexer": "ipython3",
   "version": "3.9.7"
  }
 },
 "nbformat": 4,
 "nbformat_minor": 5
}
