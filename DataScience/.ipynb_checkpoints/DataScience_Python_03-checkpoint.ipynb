{
 "cells": [
  {
   "cell_type": "code",
   "execution_count": 2,
   "id": "d39d21be",
   "metadata": {},
   "outputs": [
    {
     "data": {
      "text/html": [
       "<div>\n",
       "<style scoped>\n",
       "    .dataframe tbody tr th:only-of-type {\n",
       "        vertical-align: middle;\n",
       "    }\n",
       "\n",
       "    .dataframe tbody tr th {\n",
       "        vertical-align: top;\n",
       "    }\n",
       "\n",
       "    .dataframe thead th {\n",
       "        text-align: right;\n",
       "    }\n",
       "</style>\n",
       "<table border=\"1\" class=\"dataframe\">\n",
       "  <thead>\n",
       "    <tr style=\"text-align: right;\">\n",
       "      <th></th>\n",
       "      <th>bairro</th>\n",
       "      <th>endereco</th>\n",
       "      <th>quartos</th>\n",
       "      <th>tipo</th>\n",
       "      <th>preco</th>\n",
       "      <th>distancia_aeroporto</th>\n",
       "      <th>cep</th>\n",
       "      <th>banheiros</th>\n",
       "      <th>vagas</th>\n",
       "      <th>area_terreno</th>\n",
       "      <th>area_construida</th>\n",
       "      <th>ano_construcao</th>\n",
       "      <th>latitude</th>\n",
       "      <th>longitude</th>\n",
       "    </tr>\n",
       "  </thead>\n",
       "  <tbody>\n",
       "    <tr>\n",
       "      <th>0</th>\n",
       "      <td>Collingwood</td>\n",
       "      <td>2/79 Oxford St</td>\n",
       "      <td>2</td>\n",
       "      <td>kitnet</td>\n",
       "      <td>855000.0</td>\n",
       "      <td>1.6</td>\n",
       "      <td>3066.0</td>\n",
       "      <td>1</td>\n",
       "      <td>1</td>\n",
       "      <td>2886.0</td>\n",
       "      <td>122.0</td>\n",
       "      <td>1830.0</td>\n",
       "      <td>-37.8042</td>\n",
       "      <td>144.9845</td>\n",
       "    </tr>\n",
       "    <tr>\n",
       "      <th>1</th>\n",
       "      <td>Fitzroy</td>\n",
       "      <td>52 Nicholson St</td>\n",
       "      <td>4</td>\n",
       "      <td>casa</td>\n",
       "      <td>3310000.0</td>\n",
       "      <td>1.6</td>\n",
       "      <td>3065.0</td>\n",
       "      <td>4</td>\n",
       "      <td>2</td>\n",
       "      <td>337.0</td>\n",
       "      <td>291.0</td>\n",
       "      <td>1854.0</td>\n",
       "      <td>-37.8052</td>\n",
       "      <td>144.9739</td>\n",
       "    </tr>\n",
       "    <tr>\n",
       "      <th>2</th>\n",
       "      <td>Parkville</td>\n",
       "      <td>152 Park Dr</td>\n",
       "      <td>2</td>\n",
       "      <td>casa</td>\n",
       "      <td>2200000.0</td>\n",
       "      <td>2.6</td>\n",
       "      <td>3052.0</td>\n",
       "      <td>2</td>\n",
       "      <td>1</td>\n",
       "      <td>190.0</td>\n",
       "      <td>172.0</td>\n",
       "      <td>1875.0</td>\n",
       "      <td>-37.7928</td>\n",
       "      <td>144.9575</td>\n",
       "    </tr>\n",
       "    <tr>\n",
       "      <th>3</th>\n",
       "      <td>Carlton</td>\n",
       "      <td>100 Faraday St</td>\n",
       "      <td>2</td>\n",
       "      <td>casa</td>\n",
       "      <td>1010000.0</td>\n",
       "      <td>1.8</td>\n",
       "      <td>3053.0</td>\n",
       "      <td>1</td>\n",
       "      <td>0</td>\n",
       "      <td>101.0</td>\n",
       "      <td>60.0</td>\n",
       "      <td>1880.0</td>\n",
       "      <td>-37.7989</td>\n",
       "      <td>144.9713</td>\n",
       "    </tr>\n",
       "    <tr>\n",
       "      <th>4</th>\n",
       "      <td>Fitzroy North</td>\n",
       "      <td>470 Brunswick St</td>\n",
       "      <td>2</td>\n",
       "      <td>casa</td>\n",
       "      <td>860000.0</td>\n",
       "      <td>3.5</td>\n",
       "      <td>3068.0</td>\n",
       "      <td>1</td>\n",
       "      <td>0</td>\n",
       "      <td>104.0</td>\n",
       "      <td>70.0</td>\n",
       "      <td>1880.0</td>\n",
       "      <td>-37.7927</td>\n",
       "      <td>144.9796</td>\n",
       "    </tr>\n",
       "  </tbody>\n",
       "</table>\n",
       "</div>"
      ],
      "text/plain": [
       "          bairro          endereco  quartos    tipo      preco  \\\n",
       "0    Collingwood    2/79 Oxford St        2  kitnet   855000.0   \n",
       "1        Fitzroy   52 Nicholson St        4    casa  3310000.0   \n",
       "2      Parkville       152 Park Dr        2    casa  2200000.0   \n",
       "3        Carlton    100 Faraday St        2    casa  1010000.0   \n",
       "4  Fitzroy North  470 Brunswick St        2    casa   860000.0   \n",
       "\n",
       "   distancia_aeroporto     cep  banheiros  vagas  area_terreno  \\\n",
       "0                  1.6  3066.0          1      1        2886.0   \n",
       "1                  1.6  3065.0          4      2         337.0   \n",
       "2                  2.6  3052.0          2      1         190.0   \n",
       "3                  1.8  3053.0          1      0         101.0   \n",
       "4                  3.5  3068.0          1      0         104.0   \n",
       "\n",
       "   area_construida  ano_construcao  latitude  longitude  \n",
       "0            122.0          1830.0  -37.8042   144.9845  \n",
       "1            291.0          1854.0  -37.8052   144.9739  \n",
       "2            172.0          1875.0  -37.7928   144.9575  \n",
       "3             60.0          1880.0  -37.7989   144.9713  \n",
       "4             70.0          1880.0  -37.7927   144.9796  "
      ]
     },
     "execution_count": 2,
     "metadata": {},
     "output_type": "execute_result"
    }
   ],
   "source": [
    "import pandas as pd\n",
    "import matplotlib.pyplot as plt\n",
    "\n",
    "housing = pd.read_csv('Dados/housing_ok.csv')\n",
    "housing.head()"
   ]
  },
  {
   "cell_type": "code",
   "execution_count": 3,
   "id": "eaff9e37",
   "metadata": {},
   "outputs": [
    {
     "name": "stdout",
     "output_type": "stream",
     "text": [
      "<class 'pandas.core.frame.DataFrame'>\n",
      "RangeIndex: 2832 entries, 0 to 2831\n",
      "Data columns (total 14 columns):\n",
      " #   Column               Non-Null Count  Dtype  \n",
      "---  ------               --------------  -----  \n",
      " 0   bairro               2832 non-null   object \n",
      " 1   endereco             2832 non-null   object \n",
      " 2   quartos              2832 non-null   int64  \n",
      " 3   tipo                 2832 non-null   object \n",
      " 4   preco                2832 non-null   float64\n",
      " 5   distancia_aeroporto  2832 non-null   float64\n",
      " 6   cep                  2832 non-null   float64\n",
      " 7   banheiros            2832 non-null   int64  \n",
      " 8   vagas                2832 non-null   int64  \n",
      " 9   area_terreno         2832 non-null   float64\n",
      " 10  area_construida      2832 non-null   float64\n",
      " 11  ano_construcao       2832 non-null   float64\n",
      " 12  latitude             2832 non-null   float64\n",
      " 13  longitude            2832 non-null   float64\n",
      "dtypes: float64(8), int64(3), object(3)\n",
      "memory usage: 309.9+ KB\n"
     ]
    }
   ],
   "source": [
    "housing.info()"
   ]
  },
  {
   "cell_type": "code",
   "execution_count": 4,
   "id": "e3d05458",
   "metadata": {},
   "outputs": [
    {
     "data": {
      "text/plain": [
       "array([2, 4, 3, 5, 6, 1, 8, 7], dtype=int64)"
      ]
     },
     "execution_count": 4,
     "metadata": {},
     "output_type": "execute_result"
    }
   ],
   "source": [
    "housing.quartos.unique()"
   ]
  },
  {
   "cell_type": "code",
   "execution_count": 5,
   "id": "a8a81e30",
   "metadata": {},
   "outputs": [
    {
     "data": {
      "text/plain": [
       "array([1, 4, 2, 5, 3, 6, 8, 7], dtype=int64)"
      ]
     },
     "execution_count": 5,
     "metadata": {},
     "output_type": "execute_result"
    }
   ],
   "source": [
    "housing.banheiros.unique()"
   ]
  },
  {
   "cell_type": "code",
   "execution_count": 6,
   "id": "2ce456d7",
   "metadata": {},
   "outputs": [
    {
     "data": {
      "text/plain": [
       "array([1, 2, 0, 3, 4, 6, 5, 7, 8], dtype=int64)"
      ]
     },
     "execution_count": 6,
     "metadata": {},
     "output_type": "execute_result"
    }
   ],
   "source": [
    "housing.vagas.unique()"
   ]
  },
  {
   "cell_type": "code",
   "execution_count": 10,
   "id": "7eb0da2c",
   "metadata": {},
   "outputs": [
    {
     "name": "stdout",
     "output_type": "stream",
     "text": [
      "<class 'pandas.core.frame.DataFrame'>\n",
      "RangeIndex: 2832 entries, 0 to 2831\n",
      "Data columns (total 14 columns):\n",
      " #   Column               Non-Null Count  Dtype  \n",
      "---  ------               --------------  -----  \n",
      " 0   bairro               2832 non-null   object \n",
      " 1   endereco             2832 non-null   object \n",
      " 2   quartos              2832 non-null   int8   \n",
      " 3   tipo                 2832 non-null   object \n",
      " 4   preco                2832 non-null   float64\n",
      " 5   distancia_aeroporto  2832 non-null   float64\n",
      " 6   cep                  2832 non-null   float64\n",
      " 7   banheiros            2832 non-null   int8   \n",
      " 8   vagas                2832 non-null   int8   \n",
      " 9   area_terreno         2832 non-null   float64\n",
      " 10  area_construida      2832 non-null   float64\n",
      " 11  ano_construcao       2832 non-null   float64\n",
      " 12  latitude             2832 non-null   float64\n",
      " 13  longitude            2832 non-null   float64\n",
      "dtypes: float64(8), int8(3), object(3)\n",
      "memory usage: 251.8+ KB\n"
     ]
    }
   ],
   "source": [
    "housing.quartos = housing.quartos.astype('int8')\n",
    "housing.banheiros = housing.banheiros.astype('int8')\n",
    "housing.vagas = housing.vagas.astype('int8')\n",
    "housing.info()"
   ]
  },
  {
   "cell_type": "code",
   "execution_count": 14,
   "id": "236b8df6",
   "metadata": {},
   "outputs": [
    {
     "data": {
      "text/plain": [
       "3    1287\n",
       "4     687\n",
       "2     631\n",
       "5     158\n",
       "1      50\n",
       "6      14\n",
       "7       3\n",
       "8       2\n",
       "Name: quartos, dtype: int64"
      ]
     },
     "execution_count": 14,
     "metadata": {},
     "output_type": "execute_result"
    }
   ],
   "source": [
    "housing.quartos.value_counts()"
   ]
  },
  {
   "cell_type": "code",
   "execution_count": 25,
   "id": "056f5bcd",
   "metadata": {},
   "outputs": [
    {
     "data": {
      "text/plain": [
       "<AxesSubplot:>"
      ]
     },
     "execution_count": 25,
     "metadata": {},
     "output_type": "execute_result"
    },
    {
     "data": {
      "image/png": "[encoded data removed]",
      "text/plain": [
       "<Figure size 432x288 with 1 Axes>"
      ]
     },
     "metadata": {
      "needs_background": "light"
     },
     "output_type": "display_data"
    }
   ],
   "source": [
    "housing.quartos.value_counts().plot.bar()"
   ]
  },
  {
   "cell_type": "code",
   "execution_count": 17,
   "id": "5d097cf3",
   "metadata": {},
   "outputs": [
    {
     "data": {
      "text/plain": [
       "<AxesSubplot:ylabel='Frequency'>"
      ]
     },
     "execution_count": 17,
     "metadata": {},
     "output_type": "execute_result"
    },
    {
     "data": {
      "image/png": "[encoded data removed]",
      "text/plain": [
       "<Figure size 432x288 with 1 Axes>"
      ]
     },
     "metadata": {
      "needs_background": "light"
     },
     "output_type": "display_data"
    }
   ],
   "source": [
    "housing.preco.plot.hist()"
   ]
  },
  {
   "cell_type": "code",
   "execution_count": 30,
   "id": "1b38790f",
   "metadata": {},
   "outputs": [
    {
     "data": {
      "text/plain": [
       "<AxesSubplot:>"
      ]
     },
     "execution_count": 30,
     "metadata": {},
     "output_type": "execute_result"
    },
    {
     "data": {
      "image/png": "[encoded data removed]",
      "text/plain": [
       "<Figure size 432x288 with 1 Axes>"
      ]
     },
     "metadata": {
      "needs_background": "light"
     },
     "output_type": "display_data"
    }
   ],
   "source": [
    "(housing.preco/100).hist()"
   ]
  },
  {
   "cell_type": "code",
   "execution_count": 29,
   "id": "c27c5173",
   "metadata": {},
   "outputs": [
    {
     "data": {
      "text/plain": [
       "<AxesSubplot:ylabel='Frequency'>"
      ]
     },
     "execution_count": 29,
     "metadata": {},
     "output_type": "execute_result"
    },
    {
     "data": {
      "image/png": "[encoded data removed]",
      "text/plain": [
       "<Figure size 432x288 with 1 Axes>"
      ]
     },
     "metadata": {
      "needs_background": "light"
     },
     "output_type": "display_data"
    }
   ],
   "source": [
    "housing.preco.plot.hist(rot=45)"
   ]
  },
  {
   "cell_type": "code",
   "execution_count": 31,
   "id": "30841aa9",
   "metadata": {},
   "outputs": [
    {
     "data": {
      "text/plain": [
       "<AxesSubplot:>"
      ]
     },
     "execution_count": 31,
     "metadata": {},
     "output_type": "execute_result"
    },
    {
     "data": {
      "image/png": "[encoded data removed]",
      "text/plain": [
       "<Figure size 720x288 with 1 Axes>"
      ]
     },
     "metadata": {
      "needs_background": "light"
     },
     "output_type": "display_data"
    }
   ],
   "source": [
    "housing.preco.hist(figsize=(10,4))"
   ]
  },
  {
   "cell_type": "code",
   "execution_count": 32,
   "id": "fe4ebe9f",
   "metadata": {},
   "outputs": [
    {
     "data": {
      "text/plain": [
       "<AxesSubplot:ylabel='Frequency'>"
      ]
     },
     "execution_count": 32,
     "metadata": {},
     "output_type": "execute_result"
    },
    {
     "data": {
      "image/png": "[encoded data removed]",
      "text/plain": [
       "<Figure size 720x288 with 1 Axes>"
      ]
     },
     "metadata": {
      "needs_background": "light"
     },
     "output_type": "display_data"
    }
   ],
   "source": [
    "filtro = (housing.preco <= 5000000)\n",
    "housing[filtro].preco.plot.hist(figsize=(10,4))"
   ]
  },
  {
   "cell_type": "code",
   "execution_count": 34,
   "id": "bb9bf2d7",
   "metadata": {},
   "outputs": [
    {
     "data": {
      "text/plain": [
       "3340065.670736038"
      ]
     },
     "execution_count": 34,
     "metadata": {},
     "output_type": "execute_result"
    }
   ],
   "source": [
    "housing.preco.mean() + 3 * housing.preco.std()"
   ]
  },
  {
   "cell_type": "code",
   "execution_count": 35,
   "id": "4de1437e",
   "metadata": {},
   "outputs": [
    {
     "data": {
      "text/plain": [
       "-902211.1643801061"
      ]
     },
     "execution_count": 35,
     "metadata": {},
     "output_type": "execute_result"
    }
   ],
   "source": [
    "housing.preco.mean() - 3*housing.preco.std()"
   ]
  },
  {
   "cell_type": "code",
   "execution_count": 36,
   "id": "5b2cdf85",
   "metadata": {},
   "outputs": [
    {
     "data": {
      "text/plain": [
       "<AxesSubplot:ylabel='Frequency'>"
      ]
     },
     "execution_count": 36,
     "metadata": {},
     "output_type": "execute_result"
    },
    {
     "data": {
      "image/png": "[encoded data removed]",
      "text/plain": [
       "<Figure size 720x288 with 1 Axes>"
      ]
     },
     "metadata": {
      "needs_background": "light"
     },
     "output_type": "display_data"
    }
   ],
   "source": [
    "superior = housing.preco.mean() + 3 * housing.preco.std()\n",
    "inferior = housing.preco.mean() - 3 * housing.preco.std()\n",
    "filtro = housing.preco.between(inferior, superior)\n",
    "housing[filtro].preco.plot.hist(figsize=(10,4))"
   ]
  },
  {
   "cell_type": "code",
   "execution_count": 37,
   "id": "bbb151ba",
   "metadata": {},
   "outputs": [
    {
     "data": {
      "text/plain": [
       "array(['kitnet', 'casa', 'apartamento'], dtype=object)"
      ]
     },
     "execution_count": 37,
     "metadata": {},
     "output_type": "execute_result"
    }
   ],
   "source": [
    "housing.tipo.unique()"
   ]
  },
  {
   "cell_type": "code",
   "execution_count": 39,
   "id": "dcc3f7b1",
   "metadata": {},
   "outputs": [
    {
     "data": {
      "text/plain": [
       "array([[<AxesSubplot:title={'center':'apartamento'}>,\n",
       "        <AxesSubplot:title={'center':'casa'}>],\n",
       "       [<AxesSubplot:title={'center':'kitnet'}>, <AxesSubplot:>]],\n",
       "      dtype=object)"
      ]
     },
     "execution_count": 39,
     "metadata": {},
     "output_type": "execute_result"
    },
    {
     "data": {
      "image/png": "[encoded data removed]",
      "text/plain": [
       "<Figure size 1080x576 with 4 Axes>"
      ]
     },
     "metadata": {
      "needs_background": "light"
     },
     "output_type": "display_data"
    }
   ],
   "source": [
    "housing.preco.hist(figsize=(15,8), by=housing.tipo)"
   ]
  },
  {
   "cell_type": "code",
   "execution_count": null,
   "id": "7a773876",
   "metadata": {},
   "outputs": [],
   "source": []
  }
 ],
 "metadata": {
  "kernelspec": {
   "display_name": "Python 3 (ipykernel)",
   "language": "python",
   "name": "python3"
  },
  "language_info": {
   "codemirror_mode": {
    "name": "ipython",
    "version": 3
   },
   "file_extension": ".py",
   "mimetype": "text/x-python",
   "name": "python",
   "nbconvert_exporter": "python",
   "pygments_lexer": "ipython3",
   "version": "3.9.7"
  }
 },
 "nbformat": 4,
 "nbformat_minor": 5
}
