{
 "cells": [
  {
   "cell_type": "code",
   "execution_count": 3,
   "id": "fcf8f41e",
   "metadata": {},
   "outputs": [
    {
     "name": "stdout",
     "output_type": "stream",
     "text": [
      "<class 'pandas.core.frame.DataFrame'>\n",
      "RangeIndex: 11307 entries, 0 to 11306\n",
      "Data columns (total 14 columns):\n",
      " #   Column                  Non-Null Count  Dtype  \n",
      "---  ------                  --------------  -----  \n",
      " 0   Bairro                  11305 non-null  object \n",
      " 1   Endereco                11305 non-null  object \n",
      " 2   Quartos                 11305 non-null  float64\n",
      " 3   Tipo                    11305 non-null  object \n",
      " 4   Preco                   8828 non-null   float64\n",
      " 5   Distancia do aeroporto  11305 non-null  float64\n",
      " 6   CEP                     11305 non-null  float64\n",
      " 7   Banheiro                11016 non-null  float64\n",
      " 8   Vagas                   11056 non-null  float64\n",
      " 9   Area terreno            9031 non-null   float64\n",
      " 10  Area construida         6105 non-null   float64\n",
      " 11  Ano da construcao       7017 non-null   float64\n",
      " 12  Latitude                11307 non-null  object \n",
      " 13  Longitude               11093 non-null  object \n",
      "dtypes: float64(9), object(5)\n",
      "memory usage: 1.2+ MB\n"
     ]
    }
   ],
   "source": [
    "import pandas as pd\n",
    "import matplotlib.pyplot as plt\n",
    "\n",
    "housing = pd.read_csv('Dados/housing.csv')\n",
    "housing.info()"
   ]
  },
  {
   "cell_type": "code",
   "execution_count": 4,
   "id": "98d52373",
   "metadata": {},
   "outputs": [
    {
     "name": "stdout",
     "output_type": "stream",
     "text": [
      "<class 'pandas.core.frame.DataFrame'>\n",
      "Int64Index: 3627 entries, 1 to 7016\n",
      "Data columns (total 14 columns):\n",
      " #   Column                  Non-Null Count  Dtype  \n",
      "---  ------                  --------------  -----  \n",
      " 0   Bairro                  3627 non-null   object \n",
      " 1   Endereco                3627 non-null   object \n",
      " 2   Quartos                 3627 non-null   float64\n",
      " 3   Tipo                    3627 non-null   object \n",
      " 4   Preco                   3627 non-null   float64\n",
      " 5   Distancia do aeroporto  3627 non-null   float64\n",
      " 6   CEP                     3627 non-null   float64\n",
      " 7   Banheiro                3627 non-null   float64\n",
      " 8   Vagas                   3627 non-null   float64\n",
      " 9   Area terreno            3627 non-null   float64\n",
      " 10  Area construida         3627 non-null   float64\n",
      " 11  Ano da construcao       3627 non-null   float64\n",
      " 12  Latitude                3627 non-null   object \n",
      " 13  Longitude               3627 non-null   object \n",
      "dtypes: float64(9), object(5)\n",
      "memory usage: 425.0+ KB\n"
     ]
    }
   ],
   "source": [
    "housing.dropna(axis=0, inplace=True)\n",
    "housing.info()"
   ]
  },
  {
   "cell_type": "code",
   "execution_count": 8,
   "id": "a039febc",
   "metadata": {},
   "outputs": [
    {
     "data": {
      "text/plain": [
       "Index(['bairro', 'endereco', 'quartos', 'tipo', 'preco', 'distancia_aeroporto',\n",
       "       'cep', 'banheiro', 'vagas', 'area_terreno', 'area_construida',\n",
       "       'ano_construcao', 'latitude', 'longitude'],\n",
       "      dtype='object')"
      ]
     },
     "execution_count": 8,
     "metadata": {},
     "output_type": "execute_result"
    }
   ],
   "source": [
    "housing.rename(columns={'Bairro': 'bairro', 'Endereco':'endereco', 'Quartos':'quartos', 'Tipo':'tipo', 'Preco':'preco',\n",
    "       'Distancia do aeroporto':'distancia_aeroporto', 'CEP':'cep', 'Banheiro':'banheiro', 'Vagas':'vagas', 'Area terreno':'area_terreno',\n",
    "       'Area construida':'area_construida', 'Ano da construcao':'ano_construcao', 'Latitude':'latitude', 'Longitude':'longitude'}, inplace=True)\n",
    "housing.columns"
   ]
  },
  {
   "cell_type": "code",
   "execution_count": 9,
   "id": "e94c5e3d",
   "metadata": {},
   "outputs": [],
   "source": [
    "housing.longitude = pd.to_numeric(housing.longitude, errors='coerce')\n",
    "housing.latitude = pd.to_numeric(housing.latitude, errors = 'coerce')"
   ]
  },
  {
   "cell_type": "code",
   "execution_count": 10,
   "id": "56acb62e",
   "metadata": {},
   "outputs": [
    {
     "name": "stdout",
     "output_type": "stream",
     "text": [
      "<class 'pandas.core.frame.DataFrame'>\n",
      "Int64Index: 3627 entries, 1 to 7016\n",
      "Data columns (total 14 columns):\n",
      " #   Column               Non-Null Count  Dtype  \n",
      "---  ------               --------------  -----  \n",
      " 0   bairro               3627 non-null   object \n",
      " 1   endereco             3627 non-null   object \n",
      " 2   quartos              3627 non-null   float64\n",
      " 3   tipo                 3627 non-null   object \n",
      " 4   preco                3627 non-null   float64\n",
      " 5   distancia_aeroporto  3627 non-null   float64\n",
      " 6   cep                  3627 non-null   float64\n",
      " 7   banheiro             3627 non-null   float64\n",
      " 8   vagas                3627 non-null   float64\n",
      " 9   area_terreno         3627 non-null   float64\n",
      " 10  area_construida      3627 non-null   float64\n",
      " 11  ano_construcao       3627 non-null   float64\n",
      " 12  latitude             3627 non-null   float64\n",
      " 13  longitude            3626 non-null   float64\n",
      "dtypes: float64(11), object(3)\n",
      "memory usage: 425.0+ KB\n"
     ]
    }
   ],
   "source": [
    "housing.info()"
   ]
  },
  {
   "cell_type": "code",
   "execution_count": 11,
   "id": "2e1ff2ac",
   "metadata": {},
   "outputs": [
    {
     "name": "stdout",
     "output_type": "stream",
     "text": [
      "<class 'pandas.core.frame.DataFrame'>\n",
      "Int64Index: 3626 entries, 1 to 7016\n",
      "Data columns (total 14 columns):\n",
      " #   Column               Non-Null Count  Dtype  \n",
      "---  ------               --------------  -----  \n",
      " 0   bairro               3626 non-null   object \n",
      " 1   endereco             3626 non-null   object \n",
      " 2   quartos              3626 non-null   float64\n",
      " 3   tipo                 3626 non-null   object \n",
      " 4   preco                3626 non-null   float64\n",
      " 5   distancia_aeroporto  3626 non-null   float64\n",
      " 6   cep                  3626 non-null   float64\n",
      " 7   banheiro             3626 non-null   float64\n",
      " 8   vagas                3626 non-null   float64\n",
      " 9   area_terreno         3626 non-null   float64\n",
      " 10  area_construida      3626 non-null   float64\n",
      " 11  ano_construcao       3626 non-null   float64\n",
      " 12  latitude             3626 non-null   float64\n",
      " 13  longitude            3626 non-null   float64\n",
      "dtypes: float64(11), object(3)\n",
      "memory usage: 424.9+ KB\n"
     ]
    }
   ],
   "source": [
    "housing.dropna(axis=0, inplace=True)\n",
    "housing.info()"
   ]
  },
  {
   "cell_type": "code",
   "execution_count": 12,
   "id": "8cebf798",
   "metadata": {},
   "outputs": [
    {
     "data": {
      "text/html": [
       "<div>\n",
       "<style scoped>\n",
       "    .dataframe tbody tr th:only-of-type {\n",
       "        vertical-align: middle;\n",
       "    }\n",
       "\n",
       "    .dataframe tbody tr th {\n",
       "        vertical-align: top;\n",
       "    }\n",
       "\n",
       "    .dataframe thead th {\n",
       "        text-align: right;\n",
       "    }\n",
       "</style>\n",
       "<table border=\"1\" class=\"dataframe\">\n",
       "  <thead>\n",
       "    <tr style=\"text-align: right;\">\n",
       "      <th></th>\n",
       "      <th>latitude</th>\n",
       "      <th>longitude</th>\n",
       "    </tr>\n",
       "  </thead>\n",
       "  <tbody>\n",
       "    <tr>\n",
       "      <th>count</th>\n",
       "      <td>3626.000000</td>\n",
       "      <td>3626.000000</td>\n",
       "    </tr>\n",
       "    <tr>\n",
       "      <th>mean</th>\n",
       "      <td>-3245.446785</td>\n",
       "      <td>13407.429455</td>\n",
       "    </tr>\n",
       "    <tr>\n",
       "      <th>std</th>\n",
       "      <td>10529.533494</td>\n",
       "      <td>41780.754937</td>\n",
       "    </tr>\n",
       "    <tr>\n",
       "      <th>min</th>\n",
       "      <td>-37946.000000</td>\n",
       "      <td>144.791800</td>\n",
       "    </tr>\n",
       "    <tr>\n",
       "      <th>25%</th>\n",
       "      <td>-37.866900</td>\n",
       "      <td>144.931700</td>\n",
       "    </tr>\n",
       "    <tr>\n",
       "      <th>50%</th>\n",
       "      <td>-37.805400</td>\n",
       "      <td>145.002200</td>\n",
       "    </tr>\n",
       "    <tr>\n",
       "      <th>75%</th>\n",
       "      <td>-37.762700</td>\n",
       "      <td>145.068800</td>\n",
       "    </tr>\n",
       "    <tr>\n",
       "      <th>max</th>\n",
       "      <td>-37.686200</td>\n",
       "      <td>145138.000000</td>\n",
       "    </tr>\n",
       "  </tbody>\n",
       "</table>\n",
       "</div>"
      ],
      "text/plain": [
       "           latitude      longitude\n",
       "count   3626.000000    3626.000000\n",
       "mean   -3245.446785   13407.429455\n",
       "std    10529.533494   41780.754937\n",
       "min   -37946.000000     144.791800\n",
       "25%      -37.866900     144.931700\n",
       "50%      -37.805400     145.002200\n",
       "75%      -37.762700     145.068800\n",
       "max      -37.686200  145138.000000"
      ]
     },
     "execution_count": 12,
     "metadata": {},
     "output_type": "execute_result"
    }
   ],
   "source": [
    "housing[['latitude', 'longitude']].describe()"
   ]
  },
  {
   "cell_type": "code",
   "execution_count": 13,
   "id": "383a3627",
   "metadata": {},
   "outputs": [
    {
     "data": {
      "text/html": [
       "<div>\n",
       "<style scoped>\n",
       "    .dataframe tbody tr th:only-of-type {\n",
       "        vertical-align: middle;\n",
       "    }\n",
       "\n",
       "    .dataframe tbody tr th {\n",
       "        vertical-align: top;\n",
       "    }\n",
       "\n",
       "    .dataframe thead th {\n",
       "        text-align: right;\n",
       "    }\n",
       "</style>\n",
       "<table border=\"1\" class=\"dataframe\">\n",
       "  <thead>\n",
       "    <tr style=\"text-align: right;\">\n",
       "      <th></th>\n",
       "      <th>latitude</th>\n",
       "      <th>longitude</th>\n",
       "    </tr>\n",
       "  </thead>\n",
       "  <tbody>\n",
       "    <tr>\n",
       "      <th>count</th>\n",
       "      <td>3626.000000</td>\n",
       "      <td>3626.000000</td>\n",
       "    </tr>\n",
       "    <tr>\n",
       "      <th>mean</th>\n",
       "      <td>-37.805458</td>\n",
       "      <td>144.986199</td>\n",
       "    </tr>\n",
       "    <tr>\n",
       "      <th>std</th>\n",
       "      <td>0.062670</td>\n",
       "      <td>0.078533</td>\n",
       "    </tr>\n",
       "    <tr>\n",
       "      <th>min</th>\n",
       "      <td>-37.946000</td>\n",
       "      <td>144.791800</td>\n",
       "    </tr>\n",
       "    <tr>\n",
       "      <th>25%</th>\n",
       "      <td>-37.849075</td>\n",
       "      <td>144.925125</td>\n",
       "    </tr>\n",
       "    <tr>\n",
       "      <th>50%</th>\n",
       "      <td>-37.796600</td>\n",
       "      <td>144.995300</td>\n",
       "    </tr>\n",
       "    <tr>\n",
       "      <th>75%</th>\n",
       "      <td>-37.758602</td>\n",
       "      <td>145.050300</td>\n",
       "    </tr>\n",
       "    <tr>\n",
       "      <th>max</th>\n",
       "      <td>-37.686200</td>\n",
       "      <td>145.143600</td>\n",
       "    </tr>\n",
       "  </tbody>\n",
       "</table>\n",
       "</div>"
      ],
      "text/plain": [
       "          latitude    longitude\n",
       "count  3626.000000  3626.000000\n",
       "mean    -37.805458   144.986199\n",
       "std       0.062670     0.078533\n",
       "min     -37.946000   144.791800\n",
       "25%     -37.849075   144.925125\n",
       "50%     -37.796600   144.995300\n",
       "75%     -37.758602   145.050300\n",
       "max     -37.686200   145.143600"
      ]
     },
     "execution_count": 13,
     "metadata": {},
     "output_type": "execute_result"
    }
   ],
   "source": [
    "housing.loc[housing.latitude < -1000, 'latitude'] = housing.latitude/1000\n",
    "housing.loc[housing.longitude > 1000, 'longitude'] = housing.longitude/1000\n",
    "housing[['latitude', 'longitude']].describe()"
   ]
  },
  {
   "cell_type": "code",
   "execution_count": 14,
   "id": "3b429ded",
   "metadata": {},
   "outputs": [
    {
     "data": {
      "text/html": [
       "<div>\n",
       "<style scoped>\n",
       "    .dataframe tbody tr th:only-of-type {\n",
       "        vertical-align: middle;\n",
       "    }\n",
       "\n",
       "    .dataframe tbody tr th {\n",
       "        vertical-align: top;\n",
       "    }\n",
       "\n",
       "    .dataframe thead th {\n",
       "        text-align: right;\n",
       "    }\n",
       "</style>\n",
       "<table border=\"1\" class=\"dataframe\">\n",
       "  <thead>\n",
       "    <tr style=\"text-align: right;\">\n",
       "      <th></th>\n",
       "      <th>quartos</th>\n",
       "      <th>preco</th>\n",
       "      <th>distancia_aeroporto</th>\n",
       "      <th>cep</th>\n",
       "      <th>banheiro</th>\n",
       "      <th>vagas</th>\n",
       "      <th>area_terreno</th>\n",
       "      <th>area_construida</th>\n",
       "      <th>ano_construcao</th>\n",
       "      <th>latitude</th>\n",
       "      <th>longitude</th>\n",
       "    </tr>\n",
       "  </thead>\n",
       "  <tbody>\n",
       "    <tr>\n",
       "      <th>count</th>\n",
       "      <td>3626.000000</td>\n",
       "      <td>3.626000e+03</td>\n",
       "      <td>3626.000000</td>\n",
       "      <td>3626.000000</td>\n",
       "      <td>3626.000000</td>\n",
       "      <td>3626.000000</td>\n",
       "      <td>3626.000000</td>\n",
       "      <td>3626.000000</td>\n",
       "      <td>3626.000000</td>\n",
       "      <td>3626.000000</td>\n",
       "      <td>3626.000000</td>\n",
       "    </tr>\n",
       "    <tr>\n",
       "      <th>mean</th>\n",
       "      <td>3.093216</td>\n",
       "      <td>1.215779e+06</td>\n",
       "      <td>8.974435</td>\n",
       "      <td>3091.653613</td>\n",
       "      <td>1.631274</td>\n",
       "      <td>1.609487</td>\n",
       "      <td>519.880033</td>\n",
       "      <td>153.402496</td>\n",
       "      <td>1957.008549</td>\n",
       "      <td>-37.805458</td>\n",
       "      <td>144.986199</td>\n",
       "    </tr>\n",
       "    <tr>\n",
       "      <th>std</th>\n",
       "      <td>0.901262</td>\n",
       "      <td>7.017608e+05</td>\n",
       "      <td>3.465231</td>\n",
       "      <td>58.878631</td>\n",
       "      <td>0.743897</td>\n",
       "      <td>0.955714</td>\n",
       "      <td>653.436087</td>\n",
       "      <td>95.896493</td>\n",
       "      <td>38.733988</td>\n",
       "      <td>0.062670</td>\n",
       "      <td>0.078533</td>\n",
       "    </tr>\n",
       "    <tr>\n",
       "      <th>min</th>\n",
       "      <td>1.000000</td>\n",
       "      <td>1.310000e+05</td>\n",
       "      <td>1.200000</td>\n",
       "      <td>3000.000000</td>\n",
       "      <td>1.000000</td>\n",
       "      <td>0.000000</td>\n",
       "      <td>43.000000</td>\n",
       "      <td>1.000000</td>\n",
       "      <td>1830.000000</td>\n",
       "      <td>-37.946000</td>\n",
       "      <td>144.791800</td>\n",
       "    </tr>\n",
       "    <tr>\n",
       "      <th>25%</th>\n",
       "      <td>3.000000</td>\n",
       "      <td>7.410625e+05</td>\n",
       "      <td>6.400000</td>\n",
       "      <td>3042.000000</td>\n",
       "      <td>1.000000</td>\n",
       "      <td>1.000000</td>\n",
       "      <td>227.000000</td>\n",
       "      <td>102.000000</td>\n",
       "      <td>1925.000000</td>\n",
       "      <td>-37.849075</td>\n",
       "      <td>144.925125</td>\n",
       "    </tr>\n",
       "    <tr>\n",
       "      <th>50%</th>\n",
       "      <td>3.000000</td>\n",
       "      <td>1.025500e+06</td>\n",
       "      <td>9.200000</td>\n",
       "      <td>3073.000000</td>\n",
       "      <td>2.000000</td>\n",
       "      <td>2.000000</td>\n",
       "      <td>449.000000</td>\n",
       "      <td>132.000000</td>\n",
       "      <td>1960.000000</td>\n",
       "      <td>-37.796600</td>\n",
       "      <td>144.995300</td>\n",
       "    </tr>\n",
       "    <tr>\n",
       "      <th>75%</th>\n",
       "      <td>4.000000</td>\n",
       "      <td>1.500000e+06</td>\n",
       "      <td>11.700000</td>\n",
       "      <td>3143.000000</td>\n",
       "      <td>2.000000</td>\n",
       "      <td>2.000000</td>\n",
       "      <td>648.000000</td>\n",
       "      <td>180.000000</td>\n",
       "      <td>1995.000000</td>\n",
       "      <td>-37.758602</td>\n",
       "      <td>145.050300</td>\n",
       "    </tr>\n",
       "    <tr>\n",
       "      <th>max</th>\n",
       "      <td>8.000000</td>\n",
       "      <td>8.000000e+06</td>\n",
       "      <td>15.000000</td>\n",
       "      <td>3207.000000</td>\n",
       "      <td>8.000000</td>\n",
       "      <td>8.000000</td>\n",
       "      <td>15900.000000</td>\n",
       "      <td>3112.000000</td>\n",
       "      <td>2018.000000</td>\n",
       "      <td>-37.686200</td>\n",
       "      <td>145.143600</td>\n",
       "    </tr>\n",
       "  </tbody>\n",
       "</table>\n",
       "</div>"
      ],
      "text/plain": [
       "           quartos         preco  distancia_aeroporto          cep  \\\n",
       "count  3626.000000  3.626000e+03          3626.000000  3626.000000   \n",
       "mean      3.093216  1.215779e+06             8.974435  3091.653613   \n",
       "std       0.901262  7.017608e+05             3.465231    58.878631   \n",
       "min       1.000000  1.310000e+05             1.200000  3000.000000   \n",
       "25%       3.000000  7.410625e+05             6.400000  3042.000000   \n",
       "50%       3.000000  1.025500e+06             9.200000  3073.000000   \n",
       "75%       4.000000  1.500000e+06            11.700000  3143.000000   \n",
       "max       8.000000  8.000000e+06            15.000000  3207.000000   \n",
       "\n",
       "          banheiro        vagas  area_terreno  area_construida  \\\n",
       "count  3626.000000  3626.000000   3626.000000      3626.000000   \n",
       "mean      1.631274     1.609487    519.880033       153.402496   \n",
       "std       0.743897     0.955714    653.436087        95.896493   \n",
       "min       1.000000     0.000000     43.000000         1.000000   \n",
       "25%       1.000000     1.000000    227.000000       102.000000   \n",
       "50%       2.000000     2.000000    449.000000       132.000000   \n",
       "75%       2.000000     2.000000    648.000000       180.000000   \n",
       "max       8.000000     8.000000  15900.000000      3112.000000   \n",
       "\n",
       "       ano_construcao     latitude    longitude  \n",
       "count     3626.000000  3626.000000  3626.000000  \n",
       "mean      1957.008549   -37.805458   144.986199  \n",
       "std         38.733988     0.062670     0.078533  \n",
       "min       1830.000000   -37.946000   144.791800  \n",
       "25%       1925.000000   -37.849075   144.925125  \n",
       "50%       1960.000000   -37.796600   144.995300  \n",
       "75%       1995.000000   -37.758602   145.050300  \n",
       "max       2018.000000   -37.686200   145.143600  "
      ]
     },
     "execution_count": 14,
     "metadata": {},
     "output_type": "execute_result"
    }
   ],
   "source": [
    "housing.describe()"
   ]
  },
  {
   "cell_type": "code",
   "execution_count": 15,
   "id": "7eac5db9",
   "metadata": {},
   "outputs": [
    {
     "data": {
      "text/plain": [
       "count    3596.000000\n",
       "mean      153.184775\n",
       "std        79.052395\n",
       "min        25.000000\n",
       "25%       103.000000\n",
       "50%       133.000000\n",
       "75%       181.000000\n",
       "max       808.000000\n",
       "Name: area_construida, dtype: float64"
      ]
     },
     "execution_count": 15,
     "metadata": {},
     "output_type": "execute_result"
    }
   ],
   "source": [
    "housing = housing[housing.area_construida.between(25, 1000)]\n",
    "housing.area_construida.describe()"
   ]
  },
  {
   "cell_type": "code",
   "execution_count": 17,
   "id": "f2cb1f3d",
   "metadata": {},
   "outputs": [
    {
     "data": {
      "text/html": [
       "<div>\n",
       "<style scoped>\n",
       "    .dataframe tbody tr th:only-of-type {\n",
       "        vertical-align: middle;\n",
       "    }\n",
       "\n",
       "    .dataframe tbody tr th {\n",
       "        vertical-align: top;\n",
       "    }\n",
       "\n",
       "    .dataframe thead th {\n",
       "        text-align: right;\n",
       "    }\n",
       "</style>\n",
       "<table border=\"1\" class=\"dataframe\">\n",
       "  <thead>\n",
       "    <tr style=\"text-align: right;\">\n",
       "      <th></th>\n",
       "      <th>quartos</th>\n",
       "      <th>banheiro</th>\n",
       "      <th>vagas</th>\n",
       "      <th>ano_construcao</th>\n",
       "    </tr>\n",
       "  </thead>\n",
       "  <tbody>\n",
       "    <tr>\n",
       "      <th>count</th>\n",
       "      <td>3596.000000</td>\n",
       "      <td>3596.000000</td>\n",
       "      <td>3596.000000</td>\n",
       "      <td>3596.000000</td>\n",
       "    </tr>\n",
       "    <tr>\n",
       "      <th>mean</th>\n",
       "      <td>3.093437</td>\n",
       "      <td>1.632369</td>\n",
       "      <td>1.609844</td>\n",
       "      <td>1956.859566</td>\n",
       "    </tr>\n",
       "    <tr>\n",
       "      <th>std</th>\n",
       "      <td>0.902262</td>\n",
       "      <td>0.745500</td>\n",
       "      <td>0.956293</td>\n",
       "      <td>38.715546</td>\n",
       "    </tr>\n",
       "    <tr>\n",
       "      <th>min</th>\n",
       "      <td>1.000000</td>\n",
       "      <td>1.000000</td>\n",
       "      <td>0.000000</td>\n",
       "      <td>1830.000000</td>\n",
       "    </tr>\n",
       "    <tr>\n",
       "      <th>25%</th>\n",
       "      <td>3.000000</td>\n",
       "      <td>1.000000</td>\n",
       "      <td>1.000000</td>\n",
       "      <td>1925.000000</td>\n",
       "    </tr>\n",
       "    <tr>\n",
       "      <th>50%</th>\n",
       "      <td>3.000000</td>\n",
       "      <td>2.000000</td>\n",
       "      <td>2.000000</td>\n",
       "      <td>1960.000000</td>\n",
       "    </tr>\n",
       "    <tr>\n",
       "      <th>75%</th>\n",
       "      <td>4.000000</td>\n",
       "      <td>2.000000</td>\n",
       "      <td>2.000000</td>\n",
       "      <td>1995.000000</td>\n",
       "    </tr>\n",
       "    <tr>\n",
       "      <th>max</th>\n",
       "      <td>8.000000</td>\n",
       "      <td>8.000000</td>\n",
       "      <td>8.000000</td>\n",
       "      <td>2018.000000</td>\n",
       "    </tr>\n",
       "  </tbody>\n",
       "</table>\n",
       "</div>"
      ],
      "text/plain": [
       "           quartos     banheiro        vagas  ano_construcao\n",
       "count  3596.000000  3596.000000  3596.000000     3596.000000\n",
       "mean      3.093437     1.632369     1.609844     1956.859566\n",
       "std       0.902262     0.745500     0.956293       38.715546\n",
       "min       1.000000     1.000000     0.000000     1830.000000\n",
       "25%       3.000000     1.000000     1.000000     1925.000000\n",
       "50%       3.000000     2.000000     2.000000     1960.000000\n",
       "75%       4.000000     2.000000     2.000000     1995.000000\n",
       "max       8.000000     8.000000     8.000000     2018.000000"
      ]
     },
     "execution_count": 17,
     "metadata": {},
     "output_type": "execute_result"
    }
   ],
   "source": [
    "housing[['quartos', 'banheiro', 'vagas', 'ano_construcao']].describe()"
   ]
  },
  {
   "cell_type": "code",
   "execution_count": 18,
   "id": "6c9ce9f5",
   "metadata": {},
   "outputs": [
    {
     "data": {
      "text/plain": [
       "quartos           28768\n",
       "banheiro          28768\n",
       "vagas             28768\n",
       "ano_construcao    28768\n",
       "dtype: int64"
      ]
     },
     "execution_count": 18,
     "metadata": {},
     "output_type": "execute_result"
    }
   ],
   "source": [
    "housing[['quartos', 'banheiro', 'vagas', 'ano_construcao']].memory_usage(index=False)"
   ]
  },
  {
   "cell_type": "code",
   "execution_count": 19,
   "id": "2f9da0e0",
   "metadata": {},
   "outputs": [
    {
     "data": {
      "text/plain": [
       "quartos            int8\n",
       "banheiro           int8\n",
       "vagas              int8\n",
       "ano_construcao    int16\n",
       "dtype: object"
      ]
     },
     "execution_count": 19,
     "metadata": {},
     "output_type": "execute_result"
    }
   ],
   "source": [
    "housing.quartos = housing.quartos.astype('int8')\n",
    "housing.banheiro = housing.banheiro.astype('int8')\n",
    "housing.vagas = housing.vagas.astype('int8')\n",
    "housing.ano_construcao = housing.ano_construcao.astype('int16')\n",
    "housing[['quartos', 'banheiro', 'vagas', 'ano_construcao']].dtypes"
   ]
  },
  {
   "cell_type": "code",
   "execution_count": 20,
   "id": "58b99e55",
   "metadata": {},
   "outputs": [
    {
     "data": {
      "text/plain": [
       "quartos           3596\n",
       "banheiro          3596\n",
       "vagas             3596\n",
       "ano_construcao    7192\n",
       "dtype: int64"
      ]
     },
     "execution_count": 20,
     "metadata": {},
     "output_type": "execute_result"
    }
   ],
   "source": [
    "housing[['quartos', 'banheiro', 'vagas', 'ano_construcao']].memory_usage(index=False)"
   ]
  },
  {
   "cell_type": "code",
   "execution_count": null,
   "id": "6aa11c83",
   "metadata": {},
   "outputs": [],
   "source": []
  }
 ],
 "metadata": {
  "kernelspec": {
   "display_name": "Python 3 (ipykernel)",
   "language": "python",
   "name": "python3"
  },
  "language_info": {
   "codemirror_mode": {
    "name": "ipython",
    "version": 3
   },
   "file_extension": ".py",
   "mimetype": "text/x-python",
   "name": "python",
   "nbconvert_exporter": "python",
   "pygments_lexer": "ipython3",
   "version": "3.9.7"
  }
 },
 "nbformat": 4,
 "nbformat_minor": 5
}
