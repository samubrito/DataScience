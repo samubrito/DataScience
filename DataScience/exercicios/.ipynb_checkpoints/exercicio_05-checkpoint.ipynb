{
 "cells": [
  {
   "cell_type": "code",
   "execution_count": 1,
   "id": "86376294",
   "metadata": {},
   "outputs": [
    {
     "data": {
      "text/html": [
       "<div>\n",
       "<style scoped>\n",
       "    .dataframe tbody tr th:only-of-type {\n",
       "        vertical-align: middle;\n",
       "    }\n",
       "\n",
       "    .dataframe tbody tr th {\n",
       "        vertical-align: top;\n",
       "    }\n",
       "\n",
       "    .dataframe thead th {\n",
       "        text-align: right;\n",
       "    }\n",
       "</style>\n",
       "<table border=\"1\" class=\"dataframe\">\n",
       "  <thead>\n",
       "    <tr style=\"text-align: right;\">\n",
       "      <th></th>\n",
       "      <th>bairro</th>\n",
       "      <th>endereco</th>\n",
       "      <th>quartos</th>\n",
       "      <th>tipo</th>\n",
       "      <th>preco</th>\n",
       "      <th>distancia_aeroporto</th>\n",
       "      <th>cep</th>\n",
       "      <th>banheiros</th>\n",
       "      <th>vagas</th>\n",
       "      <th>area_terreno</th>\n",
       "      <th>area_construida</th>\n",
       "      <th>ano_construcao</th>\n",
       "      <th>latitude</th>\n",
       "      <th>longitude</th>\n",
       "    </tr>\n",
       "  </thead>\n",
       "  <tbody>\n",
       "    <tr>\n",
       "      <th>0</th>\n",
       "      <td>Collingwood</td>\n",
       "      <td>2/79 Oxford St</td>\n",
       "      <td>2</td>\n",
       "      <td>kitnet</td>\n",
       "      <td>855000.0</td>\n",
       "      <td>1.6</td>\n",
       "      <td>3066.0</td>\n",
       "      <td>1</td>\n",
       "      <td>1</td>\n",
       "      <td>2886.0</td>\n",
       "      <td>122.0</td>\n",
       "      <td>1830.0</td>\n",
       "      <td>-37.8042</td>\n",
       "      <td>144.9845</td>\n",
       "    </tr>\n",
       "    <tr>\n",
       "      <th>1</th>\n",
       "      <td>Fitzroy</td>\n",
       "      <td>52 Nicholson St</td>\n",
       "      <td>4</td>\n",
       "      <td>casa</td>\n",
       "      <td>3310000.0</td>\n",
       "      <td>1.6</td>\n",
       "      <td>3065.0</td>\n",
       "      <td>4</td>\n",
       "      <td>2</td>\n",
       "      <td>337.0</td>\n",
       "      <td>291.0</td>\n",
       "      <td>1854.0</td>\n",
       "      <td>-37.8052</td>\n",
       "      <td>144.9739</td>\n",
       "    </tr>\n",
       "    <tr>\n",
       "      <th>2</th>\n",
       "      <td>Parkville</td>\n",
       "      <td>152 Park Dr</td>\n",
       "      <td>2</td>\n",
       "      <td>casa</td>\n",
       "      <td>2200000.0</td>\n",
       "      <td>2.6</td>\n",
       "      <td>3052.0</td>\n",
       "      <td>2</td>\n",
       "      <td>1</td>\n",
       "      <td>190.0</td>\n",
       "      <td>172.0</td>\n",
       "      <td>1875.0</td>\n",
       "      <td>-37.7928</td>\n",
       "      <td>144.9575</td>\n",
       "    </tr>\n",
       "    <tr>\n",
       "      <th>3</th>\n",
       "      <td>Carlton</td>\n",
       "      <td>100 Faraday St</td>\n",
       "      <td>2</td>\n",
       "      <td>casa</td>\n",
       "      <td>1010000.0</td>\n",
       "      <td>1.8</td>\n",
       "      <td>3053.0</td>\n",
       "      <td>1</td>\n",
       "      <td>0</td>\n",
       "      <td>101.0</td>\n",
       "      <td>60.0</td>\n",
       "      <td>1880.0</td>\n",
       "      <td>-37.7989</td>\n",
       "      <td>144.9713</td>\n",
       "    </tr>\n",
       "    <tr>\n",
       "      <th>4</th>\n",
       "      <td>Fitzroy North</td>\n",
       "      <td>470 Brunswick St</td>\n",
       "      <td>2</td>\n",
       "      <td>casa</td>\n",
       "      <td>860000.0</td>\n",
       "      <td>3.5</td>\n",
       "      <td>3068.0</td>\n",
       "      <td>1</td>\n",
       "      <td>0</td>\n",
       "      <td>104.0</td>\n",
       "      <td>70.0</td>\n",
       "      <td>1880.0</td>\n",
       "      <td>-37.7927</td>\n",
       "      <td>144.9796</td>\n",
       "    </tr>\n",
       "  </tbody>\n",
       "</table>\n",
       "</div>"
      ],
      "text/plain": [
       "          bairro          endereco  quartos    tipo      preco  \\\n",
       "0    Collingwood    2/79 Oxford St        2  kitnet   855000.0   \n",
       "1        Fitzroy   52 Nicholson St        4    casa  3310000.0   \n",
       "2      Parkville       152 Park Dr        2    casa  2200000.0   \n",
       "3        Carlton    100 Faraday St        2    casa  1010000.0   \n",
       "4  Fitzroy North  470 Brunswick St        2    casa   860000.0   \n",
       "\n",
       "   distancia_aeroporto     cep  banheiros  vagas  area_terreno  \\\n",
       "0                  1.6  3066.0          1      1        2886.0   \n",
       "1                  1.6  3065.0          4      2         337.0   \n",
       "2                  2.6  3052.0          2      1         190.0   \n",
       "3                  1.8  3053.0          1      0         101.0   \n",
       "4                  3.5  3068.0          1      0         104.0   \n",
       "\n",
       "   area_construida  ano_construcao  latitude  longitude  \n",
       "0            122.0          1830.0  -37.8042   144.9845  \n",
       "1            291.0          1854.0  -37.8052   144.9739  \n",
       "2            172.0          1875.0  -37.7928   144.9575  \n",
       "3             60.0          1880.0  -37.7989   144.9713  \n",
       "4             70.0          1880.0  -37.7927   144.9796  "
      ]
     },
     "execution_count": 1,
     "metadata": {},
     "output_type": "execute_result"
    }
   ],
   "source": [
    "import pandas as pd\n",
    "import matplotlib.pyplot as plt\n",
    "\n",
    "housing = pd.read_csv('../Dados/housing_ok.csv')\n",
    "housing.head()"
   ]
  },
  {
   "cell_type": "code",
   "execution_count": 8,
   "id": "0eb31820",
   "metadata": {},
   "outputs": [
    {
     "data": {
      "text/plain": [
       "<AxesSubplot:title={'center':'preco'}, xlabel='quartos'>"
      ]
     },
     "execution_count": 8,
     "metadata": {},
     "output_type": "execute_result"
    },
    {
     "data": {
      "image/png": "[encoded data removed]",
      "text/plain": [
       "<Figure size 432x288 with 1 Axes>"
      ]
     },
     "metadata": {
      "needs_background": "light"
     },
     "output_type": "display_data"
    }
   ],
   "source": [
    "housing.boxplot(column='preco', by='quartos', showfliers=False)"
   ]
  },
  {
   "cell_type": "code",
   "execution_count": 11,
   "id": "dcb12a95",
   "metadata": {},
   "outputs": [
    {
     "data": {
      "text/plain": [
       "<AxesSubplot:title={'center':'preco'}, xlabel='quartos'>"
      ]
     },
     "execution_count": 11,
     "metadata": {},
     "output_type": "execute_result"
    },
    {
     "data": {
      "image/png": "[encoded data removed]",
      "text/plain": [
       "<Figure size 432x288 with 1 Axes>"
      ]
     },
     "metadata": {
      "needs_background": "light"
     },
     "output_type": "display_data"
    },
    {
     "data": {
      "image/png": "[encoded data removed]",
      "text/plain": [
       "<Figure size 432x288 with 1 Axes>"
      ]
     },
     "metadata": {
      "needs_background": "light"
     },
     "output_type": "display_data"
    },
    {
     "data": {
      "image/png": "[encoded data removed]",
      "text/plain": [
       "<Figure size 432x288 with 1 Axes>"
      ]
     },
     "metadata": {
      "needs_background": "light"
     },
     "output_type": "display_data"
    }
   ],
   "source": [
    "housing[housing['tipo']=='casa'].boxplot(column='preco', by='quartos', showfliers=False)\n",
    "housing[housing['tipo']=='kitnet'].boxplot(column='preco', by='quartos', showfliers=False)\n",
    "housing[housing['tipo']=='apartamento'].boxplot(column='preco', by='quartos', showfliers=False)"
   ]
  },
  {
   "cell_type": "code",
   "execution_count": 13,
   "id": "1027af5f",
   "metadata": {},
   "outputs": [
    {
     "data": {
      "text/plain": [
       "<AxesSubplot:title={'center':'ano_construcao'}, xlabel='tipo'>"
      ]
     },
     "execution_count": 13,
     "metadata": {},
     "output_type": "execute_result"
    },
    {
     "data": {
      "image/png": "[encoded data removed]",
      "text/plain": [
       "<Figure size 432x288 with 1 Axes>"
      ]
     },
     "metadata": {
      "needs_background": "light"
     },
     "output_type": "display_data"
    }
   ],
   "source": [
    "housing.boxplot(column='ano_construcao', by='tipo', showfliers=False)"
   ]
  },
  {
   "cell_type": "code",
   "execution_count": 15,
   "id": "7010d501",
   "metadata": {},
   "outputs": [
    {
     "data": {
      "text/plain": [
       "<AxesSubplot:title={'center':'ano_construcao'}, xlabel='quartos'>"
      ]
     },
     "execution_count": 15,
     "metadata": {},
     "output_type": "execute_result"
    },
    {
     "data": {
      "image/png": "[encoded data removed]",
      "text/plain": [
       "<Figure size 432x288 with 1 Axes>"
      ]
     },
     "metadata": {
      "needs_background": "light"
     },
     "output_type": "display_data"
    }
   ],
   "source": [
    "housing[housing.tipo=='apartamento'].boxplot(column='ano_construcao', by='quartos', showfliers=False)"
   ]
  },
  {
   "cell_type": "code",
   "execution_count": null,
   "id": "9f3436e0",
   "metadata": {},
   "outputs": [],
   "source": []
  }
 ],
 "metadata": {
  "kernelspec": {
   "display_name": "Python 3 (ipykernel)",
   "language": "python",
   "name": "python3"
  },
  "language_info": {
   "codemirror_mode": {
    "name": "ipython",
    "version": 3
   },
   "file_extension": ".py",
   "mimetype": "text/x-python",
   "name": "python",
   "nbconvert_exporter": "python",
   "pygments_lexer": "ipython3",
   "version": "3.9.7"
  }
 },
 "nbformat": 4,
 "nbformat_minor": 5
}
